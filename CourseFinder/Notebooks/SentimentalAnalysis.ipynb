{
 "cells": [
  {
   "cell_type": "code",
   "execution_count": 37,
   "metadata": {
    "collapsed": false,
    "deletable": true,
    "editable": true
   },
   "outputs": [
    {
     "name": "stdout",
     "output_type": "stream",
     "text": [
      "                                               Title  \\\n",
      "0  The Science of Health Care Delivery (Coursera)...   \n",
      "1  Environmental Protection and Sustainability (e...   \n",
      "2          Optimal Stopping Problems (IST) More Info   \n",
      "3  Health Informatics for better and safer health...   \n",
      "4  eHealth: Combining Psychology, Technology and ...   \n",
      "\n",
      "                                            link_url  \\\n",
      "0  https://www.mooc-list.com/course/science-healt...   \n",
      "1  https://www.mooc-list.com/course/environmental...   \n",
      "2  https://www.mooc-list.com/course/optimal-stopp...   \n",
      "3  https://www.mooc-list.com/course/health-inform...   \n",
      "4  https://www.mooc-list.com/course/ehealth-combi...   \n",
      "\n",
      "                                           institute        author language  \\\n",
      "0                           Arizona State University      Coursera  English   \n",
      "1                                            IsraelX           EdX  English   \n",
      "2  Instituto Superior Técnico, Universidade de Li...  MOOC Técnico  English   \n",
      "3                                            IsraelX           EdX  English   \n",
      "4                               University of Twente   FutureLearn  English   \n",
      "\n",
      "                                         description           date  \\\n",
      "0  This course explores why the Science for Healt...  Feb 23rd 2019   \n",
      "1  Uncover better solutions to help manage a wide...     Self Paced   \n",
      "2  This course address problems of optimal stoppi...  Feb 24th 2019   \n",
      "3  Learn when and how Informatics is used in diff...  Feb 24th 2019   \n",
      "4  How can technology make you healthy? Learn abo...  Feb 25th 2019   \n",
      "\n",
      "                                                tags       ratings       votes  \n",
      "0  Healthcare,  Healthcare Delivery,  Health,  Pa...  Average: 4.4  (10 votes)  \n",
      "1  Environment,  Sustainability,  Environmental P...  Average: 3.5   (2 votes)  \n",
      "2  Math,  Optimal Stopping,  Hamilton-Jacobi-Bell...    Average: 8    (1 vote)  \n",
      "3  Health Informatics,  Health,  Healthcare,  Hea...           NaN         NaN  \n",
      "4  eHealth,  Health,  Psychology,  Technology,  W...  Average: 5.9   (9 votes)  \n"
     ]
    }
   ],
   "source": [
    "import pandas as pd\n",
    "df = pd.read_csv('dataminer (1).csv');\n",
    "print(df.head())"
   ]
  },
  {
   "cell_type": "code",
   "execution_count": 38,
   "metadata": {
    "collapsed": false,
    "deletable": true,
    "editable": true
   },
   "outputs": [],
   "source": [
    "import random\n",
    "ratings = [1,2,3,4,5]\n",
    "for i in range(len(df)):\n",
    "    df['ratings'][i] = random.choice(ratings)"
   ]
  },
  {
   "cell_type": "code",
   "execution_count": 39,
   "metadata": {
    "collapsed": false,
    "deletable": true,
    "editable": true
   },
   "outputs": [
    {
     "name": "stdout",
     "output_type": "stream",
     "text": [
      "                                               Title  \\\n",
      "0  The Science of Health Care Delivery (Coursera)...   \n",
      "1  Environmental Protection and Sustainability (e...   \n",
      "2          Optimal Stopping Problems (IST) More Info   \n",
      "3  Health Informatics for better and safer health...   \n",
      "4  eHealth: Combining Psychology, Technology and ...   \n",
      "\n",
      "                                            link_url  \\\n",
      "0  https://www.mooc-list.com/course/science-healt...   \n",
      "1  https://www.mooc-list.com/course/environmental...   \n",
      "2  https://www.mooc-list.com/course/optimal-stopp...   \n",
      "3  https://www.mooc-list.com/course/health-inform...   \n",
      "4  https://www.mooc-list.com/course/ehealth-combi...   \n",
      "\n",
      "                                           institute        author language  \\\n",
      "0                           Arizona State University      Coursera  English   \n",
      "1                                            IsraelX           EdX  English   \n",
      "2  Instituto Superior Técnico, Universidade de Li...  MOOC Técnico  English   \n",
      "3                                            IsraelX           EdX  English   \n",
      "4                               University of Twente   FutureLearn  English   \n",
      "\n",
      "                                         description           date  \\\n",
      "0  This course explores why the Science for Healt...  Feb 23rd 2019   \n",
      "1  Uncover better solutions to help manage a wide...     Self Paced   \n",
      "2  This course address problems of optimal stoppi...  Feb 24th 2019   \n",
      "3  Learn when and how Informatics is used in diff...  Feb 24th 2019   \n",
      "4  How can technology make you healthy? Learn abo...  Feb 25th 2019   \n",
      "\n",
      "                                                tags ratings       votes  \n",
      "0  Healthcare,  Healthcare Delivery,  Health,  Pa...       1  (10 votes)  \n",
      "1  Environment,  Sustainability,  Environmental P...       1   (2 votes)  \n",
      "2  Math,  Optimal Stopping,  Hamilton-Jacobi-Bell...       2    (1 vote)  \n",
      "3  Health Informatics,  Health,  Healthcare,  Hea...       3         NaN  \n",
      "4  eHealth,  Health,  Psychology,  Technology,  W...       5   (9 votes)  \n"
     ]
    }
   ],
   "source": [
    "print(df.head())"
   ]
  },
  {
   "cell_type": "markdown",
   "metadata": {},
   "source": [
    "# Comment analysis"
   ]
  },
  {
   "cell_type": "code",
   "execution_count": 47,
   "metadata": {
    "collapsed": false
   },
   "outputs": [
    {
     "name": "stdout",
     "output_type": "stream",
     "text": [
      "[0.6, 0.067, 0.34, 0.278, 0.6, 0.4, 0.438, 0.108, 0.167, 1.0]\n",
      "                                               Title  \\\n",
      "0  The Science of Health Care Delivery (Coursera)...   \n",
      "1  Environmental Protection and Sustainability (e...   \n",
      "2          Optimal Stopping Problems (IST) More Info   \n",
      "3  Health Informatics for better and safer health...   \n",
      "4  eHealth: Combining Psychology, Technology and ...   \n",
      "\n",
      "                                            link_url  \\\n",
      "0  https://www.mooc-list.com/course/science-healt...   \n",
      "1  https://www.mooc-list.com/course/environmental...   \n",
      "2  https://www.mooc-list.com/course/optimal-stopp...   \n",
      "3  https://www.mooc-list.com/course/health-inform...   \n",
      "4  https://www.mooc-list.com/course/ehealth-combi...   \n",
      "\n",
      "                                           institute        author language  \\\n",
      "0                           Arizona State University      Coursera  English   \n",
      "1                                            IsraelX           EdX  English   \n",
      "2  Instituto Superior Técnico, Universidade de Li...  MOOC Técnico  English   \n",
      "3                                            IsraelX           EdX  English   \n",
      "4                               University of Twente   FutureLearn  English   \n",
      "\n",
      "                                         description           date  \\\n",
      "0  This course explores why the Science for Healt...  Feb 23rd 2019   \n",
      "1  Uncover better solutions to help manage a wide...     Self Paced   \n",
      "2  This course address problems of optimal stoppi...  Feb 24th 2019   \n",
      "3  Learn when and how Informatics is used in diff...  Feb 24th 2019   \n",
      "4  How can technology make you healthy? Learn abo...  Feb 25th 2019   \n",
      "\n",
      "                                                tags ratings       votes  \\\n",
      "0  Healthcare,  Healthcare Delivery,  Health,  Pa...       1  (10 votes)   \n",
      "1  Environment,  Sustainability,  Environmental P...       1   (2 votes)   \n",
      "2  Math,  Optimal Stopping,  Hamilton-Jacobi-Bell...       2    (1 vote)   \n",
      "3  Health Informatics,  Health,  Healthcare,  Hea...       3         NaN   \n",
      "4  eHealth,  Health,  Psychology,  Technology,  W...       5   (9 votes)   \n",
      "\n",
      "   comment  \n",
      "0    0.600  \n",
      "1    0.067  \n",
      "2    0.340  \n",
      "3    0.278  \n",
      "4    0.600  \n"
     ]
    }
   ],
   "source": [
    "comments = pd.read_csv('reviews.csv')\n",
    "from textblob import TextBlob\n",
    "sentiment_scores_tb = [round(TextBlob(comments['Review'][i]).sentiment.polarity, 3) for i in range(len(df))]\n",
    "sentiment_category_tb = ['positive' if score > 0 \n",
    "                             else 'negative' if score < 0 \n",
    "                                 else 'neutral' \n",
    "                                     for score in sentiment_scores_tb]\n",
    "\n",
    "print(sentiment_scores_tb[0:10])\n",
    "df['comment'] = sentiment_scores_tb\n",
    "print(df.head())\n"
   ]
  },
  {
   "cell_type": "code",
   "execution_count": null,
   "metadata": {
    "collapsed": false,
    "deletable": true,
    "editable": true
   },
   "outputs": [],
   "source": []
  },
  {
   "cell_type": "code",
   "execution_count": 48,
   "metadata": {
    "collapsed": false,
    "deletable": true,
    "editable": true
   },
   "outputs": [
    {
     "name": "stderr",
     "output_type": "stream",
     "text": [
      "C:\\Users\\Rishabh\\AppData\\Local\\Enthought\\Canopy\\edm\\envs\\User\\lib\\site-packages\\ipykernel_launcher.py:3: SettingWithCopyWarning: \n",
      "A value is trying to be set on a copy of a slice from a DataFrame\n",
      "\n",
      "See the caveats in the documentation: http://pandas.pydata.org/pandas-docs/stable/indexing.html#indexing-view-versus-copy\n",
      "  This is separate from the ipykernel package so we can avoid doing imports until\n"
     ]
    },
    {
     "name": "stdout",
     "output_type": "stream",
     "text": [
      "                                               Title  \\\n",
      "0  The Science of Health Care Delivery (Coursera)...   \n",
      "1  Environmental Protection and Sustainability (e...   \n",
      "2          Optimal Stopping Problems (IST) More Info   \n",
      "3  Health Informatics for better and safer health...   \n",
      "4  eHealth: Combining Psychology, Technology and ...   \n",
      "\n",
      "                                            link_url  \\\n",
      "0  https://www.mooc-list.com/course/science-healt...   \n",
      "1  https://www.mooc-list.com/course/environmental...   \n",
      "2  https://www.mooc-list.com/course/optimal-stopp...   \n",
      "3  https://www.mooc-list.com/course/health-inform...   \n",
      "4  https://www.mooc-list.com/course/ehealth-combi...   \n",
      "\n",
      "                                           institute        author language  \\\n",
      "0                           Arizona State University      Coursera  English   \n",
      "1                                            IsraelX           EdX  English   \n",
      "2  Instituto Superior Técnico, Universidade de Li...  MOOC Técnico  English   \n",
      "3                                            IsraelX           EdX  English   \n",
      "4                               University of Twente   FutureLearn  English   \n",
      "\n",
      "                                         description           date  \\\n",
      "0  This course explores why the Science for Healt...  Feb 23rd 2019   \n",
      "1  Uncover better solutions to help manage a wide...     Self Paced   \n",
      "2  This course address problems of optimal stoppi...  Feb 24th 2019   \n",
      "3  Learn when and how Informatics is used in diff...  Feb 24th 2019   \n",
      "4  How can technology make you healthy? Learn abo...  Feb 25th 2019   \n",
      "\n",
      "                                                tags ratings votes  comment  \n",
      "0  Healthcare,  Healthcare Delivery,  Health,  Pa...       1    94    0.600  \n",
      "1  Environment,  Sustainability,  Environmental P...       1   100    0.067  \n",
      "2  Math,  Optimal Stopping,  Hamilton-Jacobi-Bell...       2    93    0.340  \n",
      "3  Health Informatics,  Health,  Healthcare,  Hea...       3    77    0.278  \n",
      "4  eHealth,  Health,  Psychology,  Technology,  W...       5     3    0.600  \n"
     ]
    }
   ],
   "source": [
    "votes = [3, 100]\n",
    "for i in range(len(df)):\n",
    "    df['votes'][i] = random.randint(3, 100)\n",
    "print(df.head())\n"
   ]
  },
  {
   "cell_type": "code",
   "execution_count": 49,
   "metadata": {
    "collapsed": true,
    "deletable": true,
    "editable": true
   },
   "outputs": [],
   "source": [
    "def func(rating, comment):\n",
    "    return 0.7 * (rating) + 0.3 * (comment)"
   ]
  },
  {
   "cell_type": "code",
   "execution_count": 50,
   "metadata": {
    "collapsed": false,
    "deletable": true,
    "editable": true
   },
   "outputs": [
    {
     "name": "stderr",
     "output_type": "stream",
     "text": [
      "C:\\Users\\Rishabh\\AppData\\Local\\Enthought\\Canopy\\edm\\envs\\User\\lib\\site-packages\\ipykernel_launcher.py:5: SettingWithCopyWarning: \n",
      "A value is trying to be set on a copy of a slice from a DataFrame\n",
      "\n",
      "See the caveats in the documentation: http://pandas.pydata.org/pandas-docs/stable/indexing.html#indexing-view-versus-copy\n",
      "  \"\"\"\n"
     ]
    }
   ],
   "source": [
    "df['balanced_rating'] = 0.1\n",
    "for i in range(len(df)):\n",
    "    rating = float(df['ratings'][i])\n",
    "    comment = float(df['comment'][i])\n",
    "    df['balanced_rating'][i] = func(rating, comment)"
   ]
  },
  {
   "cell_type": "code",
   "execution_count": 52,
   "metadata": {
    "collapsed": false,
    "deletable": true,
    "editable": true,
    "scrolled": true
   },
   "outputs": [
    {
     "name": "stdout",
     "output_type": "stream",
     "text": [
      "                                               Title  \\\n",
      "0  The Science of Health Care Delivery (Coursera)...   \n",
      "1  Environmental Protection and Sustainability (e...   \n",
      "2          Optimal Stopping Problems (IST) More Info   \n",
      "3  Health Informatics for better and safer health...   \n",
      "4  eHealth: Combining Psychology, Technology and ...   \n",
      "\n",
      "                                            link_url  \\\n",
      "0  https://www.mooc-list.com/course/science-healt...   \n",
      "1  https://www.mooc-list.com/course/environmental...   \n",
      "2  https://www.mooc-list.com/course/optimal-stopp...   \n",
      "3  https://www.mooc-list.com/course/health-inform...   \n",
      "4  https://www.mooc-list.com/course/ehealth-combi...   \n",
      "\n",
      "                                           institute        author language  \\\n",
      "0                           Arizona State University      Coursera  English   \n",
      "1                                            IsraelX           EdX  English   \n",
      "2  Instituto Superior Técnico, Universidade de Li...  MOOC Técnico  English   \n",
      "3                                            IsraelX           EdX  English   \n",
      "4                               University of Twente   FutureLearn  English   \n",
      "\n",
      "                                         description           date  \\\n",
      "0  This course explores why the Science for Healt...  Feb 23rd 2019   \n",
      "1  Uncover better solutions to help manage a wide...     Self Paced   \n",
      "2  This course address problems of optimal stoppi...  Feb 24th 2019   \n",
      "3  Learn when and how Informatics is used in diff...  Feb 24th 2019   \n",
      "4  How can technology make you healthy? Learn abo...  Feb 25th 2019   \n",
      "\n",
      "                                                tags ratings votes  comment  \\\n",
      "0  Healthcare,  Healthcare Delivery,  Health,  Pa...       1    94    0.600   \n",
      "1  Environment,  Sustainability,  Environmental P...       1   100    0.067   \n",
      "2  Math,  Optimal Stopping,  Hamilton-Jacobi-Bell...       2    93    0.340   \n",
      "3  Health Informatics,  Health,  Healthcare,  Hea...       3    77    0.278   \n",
      "4  eHealth,  Health,  Psychology,  Technology,  W...       5     3    0.600   \n",
      "\n",
      "   balanced_rating  \n",
      "0           0.8800  \n",
      "1           0.7201  \n",
      "2           1.5020  \n",
      "3           2.1834  \n",
      "4           3.6800  \n"
     ]
    }
   ],
   "source": [
    "print(df.head())\n",
    "\n",
    "df.to_csv('courses.csv')"
   ]
  },
  {
   "cell_type": "code",
   "execution_count": null,
   "metadata": {
    "collapsed": true
   },
   "outputs": [],
   "source": []
  }
 ],
 "metadata": {
  "kernelspec": {
   "display_name": "Python 3",
   "language": "python",
   "name": "python3"
  },
  "language_info": {
   "codemirror_mode": {
    "name": "ipython",
    "version": 3
   },
   "file_extension": ".py",
   "mimetype": "text/x-python",
   "name": "python",
   "nbconvert_exporter": "python",
   "pygments_lexer": "ipython3",
   "version": "3.5.2"
  }
 },
 "nbformat": 4,
 "nbformat_minor": 2
}
